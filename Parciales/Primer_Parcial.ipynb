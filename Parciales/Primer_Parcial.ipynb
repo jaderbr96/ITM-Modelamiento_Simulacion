{
  "nbformat": 4,
  "nbformat_minor": 0,
  "metadata": {
    "colab": {
      "provenance": [],
      "authorship_tag": "ABX9TyOEnXvQRIzGDMaax5guBzim",
      "include_colab_link": true
    },
    "kernelspec": {
      "name": "python3",
      "display_name": "Python 3"
    },
    "language_info": {
      "name": "python"
    }
  },
  "cells": [
    {
      "cell_type": "markdown",
      "metadata": {
        "id": "view-in-github",
        "colab_type": "text"
      },
      "source": [
        "<a href=\"https://colab.research.google.com/github/jaderbr96/ITM-Modelamiento_Simulacion/blob/main/Parciales/Primer_Parcial.ipynb\" target=\"_parent\"><img src=\"https://colab.research.google.com/assets/colab-badge.svg\" alt=\"Open In Colab\"/></a>"
      ]
    },
    {
      "cell_type": "markdown",
      "source": [
        "- **Jhon Jader Baldovino Ruiz**\n",
        "- **MSI94-2**"
      ],
      "metadata": {
        "id": "wkR1HgQRgZ56"
      }
    },
    {
      "cell_type": "markdown",
      "source": [
        "1. Write a program that simulates the rolling of two dice and calculates the probability of\n",
        "getting a specific combination, such as snake eyes (two ones), box cars (two sixes), or any\n",
        "other combination."
      ],
      "metadata": {
        "id": "oaZIQqeeui2u"
      }
    },
    {
      "cell_type": "code",
      "source": [
        "import numpy as np\n",
        "numeros = np.array([1,2])\n",
        "espacio_muestral = np.array([\n",
        "     [1,1],[1,2],[1,3],[1,4],[1,5],[1,6],\n",
        "     [2,1],[2,2],[2,3],[2,4],[2,5],[2,6],\n",
        "     [3,1],[3,2],[3,3],[3,4],[3,5],[3,6],\n",
        "     [4,1],[4,2],[4,3],[4,4],[4,5],[4,6],\n",
        "     [5,1],[5,2],[5,3],[5,4],[5,5],[5,6],\n",
        "     [6,1],[6,2],[6,3],[6,4],[6,5],[6,6]\n",
        "     ])\n",
        "pos1 = np.where((espacio_muestral == numeros).all(axis=1))[0]\n",
        "pos2 = espacio_muestral[np.where((espacio_muestral == np.flip(numeros)) & (espacio_muestral != espacio_muestral[pos1]))]\n",
        "contador = 0\n",
        "if pos1.any():\n",
        "    contador += 1\n",
        "\n",
        "if pos2.any():\n",
        "  contador += 1\n",
        "\n",
        "probabilidad = round((contador/36)*100,2)\n",
        "f\"La probabilidad de sacar {numeros} o {np.flip(numeros)} es de: {probabilidad}%\""
      ],
      "metadata": {
        "colab": {
          "base_uri": "https://localhost:8080/",
          "height": 35
        },
        "id": "G91NVAssupzW",
        "outputId": "9b23d1dc-0ab8-43e5-b75b-a8772faef10b"
      },
      "execution_count": null,
      "outputs": [
        {
          "output_type": "execute_result",
          "data": {
            "text/plain": [
              "'La probabilidad de sacar [1 2] o [2 1] es de: 5.56%'"
            ],
            "application/vnd.google.colaboratory.intrinsic+json": {
              "type": "string"
            }
          },
          "metadata": {},
          "execution_count": 157
        }
      ]
    },
    {
      "cell_type": "markdown",
      "source": [
        "2. Generate a set of random numbers that follow a normal distribution and calculate the\n",
        "mean, median, and standard deviation of the set."
      ],
      "metadata": {
        "id": "uF9eqlzJXnug"
      }
    },
    {
      "cell_type": "code",
      "source": [
        "\n",
        "cantidad_numeros_normal = 500\n",
        "numeros_random_normal = np.random.normal(loc=0, scale=1, size=cantidad_numeros_normal)\n",
        "mediana = np.median(numeros_random_normal)\n",
        "promedio = np.mean(numeros_random_normal)\n",
        "desviacion_estandar = np.std(numeros_random_normal)\n",
        "f\"promedio: {promedio} mediana: {mediana} desviacion estandar: {desviacion_estandar}\""
      ],
      "metadata": {
        "colab": {
          "base_uri": "https://localhost:8080/",
          "height": 35
        },
        "id": "bGbHNraFXpR_",
        "outputId": "95eb60e8-d00b-4c6b-9ae3-363003eb69a7"
      },
      "execution_count": null,
      "outputs": [
        {
          "output_type": "execute_result",
          "data": {
            "text/plain": [
              "'promedio: 0.0848629402462307 mediana: 0.07791959821004191 desviacion estandar: 0.9966833759744016'"
            ],
            "application/vnd.google.colaboratory.intrinsic+json": {
              "type": "string"
            }
          },
          "metadata": {},
          "execution_count": 155
        }
      ]
    },
    {
      "cell_type": "markdown",
      "source": [
        "3. Write a program that simulates flipping a coin a specified number of times and calculates\n",
        "the probability of getting heads or tails."
      ],
      "metadata": {
        "id": "WApoFE6cZ9Ew"
      }
    },
    {
      "cell_type": "code",
      "source": [
        "\n",
        "numero_lanzamientos = 1000\n",
        "lanzamientos = np.random.choice([\"cara\", \"cruz\"], size=numero_lanzamientos)\n",
        "cantidad_caras = np.sum(lanzamientos == \"cara\")\n",
        "cantidad_cruces = np.sum(lanzamientos == \"cruz\")\n",
        "probabilidad_cara = round((cantidad_caras / numero_lanzamientos)*100,2)\n",
        "probabilidad_cruz = round((cantidad_cruces / numero_lanzamientos)*100,2)\n",
        "\n",
        "print(f\"Probabilidad de cara: {probabilidad_cara}%\")\n",
        "print(f\"Probabilidad de cruz: {probabilidad_cruz}%\")\n"
      ],
      "metadata": {
        "colab": {
          "base_uri": "https://localhost:8080/"
        },
        "id": "6l03c4RXaArX",
        "outputId": "f91c3a01-c953-44f3-9b44-7110fd382f83"
      },
      "execution_count": null,
      "outputs": [
        {
          "output_type": "stream",
          "name": "stdout",
          "text": [
            "Probabilidad de cara: 48.9%\n",
            "Probabilidad de cruz: 51.1%\n"
          ]
        }
      ]
    },
    {
      "cell_type": "markdown",
      "source": [
        "4. Generate a set of random numbers that follow a Poisson distribution and calculate the\n",
        "mean, median, and standard deviation of the set."
      ],
      "metadata": {
        "id": "7d-W_3E2cm54"
      }
    },
    {
      "cell_type": "code",
      "source": [
        "\n",
        "cantidad_numeros_poisson = 500\n",
        "numeros_random_poisson = np.random.poisson(lam=1, size=cantidad_numeros_poisson)\n",
        "mediana_poisson = np.median(numeros_random_poisson)\n",
        "promedio_poisson = np.mean(numeros_random_poisson)\n",
        "desviacion_estandar_poisson = np.std(numeros_random_poisson)\n",
        "f\"promedio: {promedio_poisson} mediana: {mediana_poisson} desviacion estandar: {desviacion_estandar_poisson}\"\n"
      ],
      "metadata": {
        "colab": {
          "base_uri": "https://localhost:8080/",
          "height": 35
        },
        "id": "Z-hCMiVwcsBn",
        "outputId": "dc65b074-1a50-4e0a-d637-0e0524f4d9c4"
      },
      "execution_count": null,
      "outputs": [
        {
          "output_type": "execute_result",
          "data": {
            "text/plain": [
              "'promedio: 1.002 mediana: 1.0 desviacion estandar: 0.9949854270289591'"
            ],
            "application/vnd.google.colaboratory.intrinsic+json": {
              "type": "string"
            }
          },
          "metadata": {},
          "execution_count": 156
        }
      ]
    },
    {
      "cell_type": "markdown",
      "source": [
        "5. Write a program that calculates the probability of an event occurring given some prior\n",
        "knowledge about the event. Use Bayes' theorem to calculate the posterior probability of\n",
        "an event"
      ],
      "metadata": {
        "id": "9gXwynBxeWmp"
      }
    },
    {
      "cell_type": "markdown",
      "source": [
        "# No fui capaz o no entendi bien XD"
      ],
      "metadata": {
        "id": "O4q8vic8hR35"
      }
    }
  ]
}